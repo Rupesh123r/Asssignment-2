{
 "cells": [
  {
   "cell_type": "code",
   "execution_count": 1,
   "id": "ac147547",
   "metadata": {},
   "outputs": [],
   "source": [
    "import numpy as np\n",
    "import pandas as pd\n",
    "from matplotlib import pyplot as plt\n",
    "from sklearn.metrics import confusion_matrix\n",
    "from sklearn.neighbors import KNeighborsClassifier\n",
    "from sklearn.model_selection import train_test_split\n",
    "import seaborn as sns\n",
    "sns.set()"
   ]
  },
  {
   "cell_type": "code",
   "execution_count": 70,
   "id": "0dad6572",
   "metadata": {},
   "outputs": [],
   "source": [
    "df  = pd.read_csv(\"C://Users//rakes//Desktop//MLP//mlp videos//german_credit_data (1).csv\")"
   ]
  },
  {
   "cell_type": "code",
   "execution_count": 71,
   "id": "2dd8acf8",
   "metadata": {},
   "outputs": [
    {
     "data": {
      "text/html": [
       "<div>\n",
       "<style scoped>\n",
       "    .dataframe tbody tr th:only-of-type {\n",
       "        vertical-align: middle;\n",
       "    }\n",
       "\n",
       "    .dataframe tbody tr th {\n",
       "        vertical-align: top;\n",
       "    }\n",
       "\n",
       "    .dataframe thead th {\n",
       "        text-align: right;\n",
       "    }\n",
       "</style>\n",
       "<table border=\"1\" class=\"dataframe\">\n",
       "  <thead>\n",
       "    <tr style=\"text-align: right;\">\n",
       "      <th></th>\n",
       "      <th>Unnamed: 0</th>\n",
       "      <th>Age</th>\n",
       "      <th>Sex</th>\n",
       "      <th>Job</th>\n",
       "      <th>Housing</th>\n",
       "      <th>Savingaccounts</th>\n",
       "      <th>Checkingaccount</th>\n",
       "      <th>Creditamount</th>\n",
       "      <th>Duration</th>\n",
       "      <th>Purpose</th>\n",
       "      <th>Risk</th>\n",
       "    </tr>\n",
       "  </thead>\n",
       "  <tbody>\n",
       "    <tr>\n",
       "      <th>0</th>\n",
       "      <td>0</td>\n",
       "      <td>67</td>\n",
       "      <td>male</td>\n",
       "      <td>2</td>\n",
       "      <td>own</td>\n",
       "      <td>NaN</td>\n",
       "      <td>little</td>\n",
       "      <td>1169</td>\n",
       "      <td>6</td>\n",
       "      <td>radio/TV</td>\n",
       "      <td>good</td>\n",
       "    </tr>\n",
       "    <tr>\n",
       "      <th>1</th>\n",
       "      <td>1</td>\n",
       "      <td>22</td>\n",
       "      <td>female</td>\n",
       "      <td>2</td>\n",
       "      <td>own</td>\n",
       "      <td>little</td>\n",
       "      <td>moderate</td>\n",
       "      <td>5951</td>\n",
       "      <td>48</td>\n",
       "      <td>radio/TV</td>\n",
       "      <td>bad</td>\n",
       "    </tr>\n",
       "    <tr>\n",
       "      <th>2</th>\n",
       "      <td>2</td>\n",
       "      <td>49</td>\n",
       "      <td>male</td>\n",
       "      <td>1</td>\n",
       "      <td>own</td>\n",
       "      <td>little</td>\n",
       "      <td>NaN</td>\n",
       "      <td>2096</td>\n",
       "      <td>12</td>\n",
       "      <td>education</td>\n",
       "      <td>good</td>\n",
       "    </tr>\n",
       "  </tbody>\n",
       "</table>\n",
       "</div>"
      ],
      "text/plain": [
       "   Unnamed: 0  Age     Sex  Job Housing Savingaccounts Checkingaccount  \\\n",
       "0           0   67    male    2     own            NaN          little   \n",
       "1           1   22  female    2     own         little        moderate   \n",
       "2           2   49    male    1     own         little             NaN   \n",
       "\n",
       "   Creditamount  Duration    Purpose  Risk  \n",
       "0          1169         6   radio/TV  good  \n",
       "1          5951        48   radio/TV   bad  \n",
       "2          2096        12  education  good  "
      ]
     },
     "execution_count": 71,
     "metadata": {},
     "output_type": "execute_result"
    }
   ],
   "source": [
    "df.head(3)"
   ]
  },
  {
   "cell_type": "code",
   "execution_count": 72,
   "id": "a0569daf",
   "metadata": {},
   "outputs": [
    {
     "name": "stdout",
     "output_type": "stream",
     "text": [
      "Unnamed: 0           0\n",
      "Age                  0\n",
      "Sex                  0\n",
      "Job                  0\n",
      "Housing              0\n",
      "Savingaccounts     183\n",
      "Checkingaccount    394\n",
      "Creditamount         0\n",
      "Duration             0\n",
      "Purpose              0\n",
      "Risk                 0\n",
      "dtype: int64\n"
     ]
    }
   ],
   "source": [
    "## DATA PRE-PROCESSING\n",
    "\n",
    "#Finding out missing values in each column\n",
    "print(df.isna().sum())\n",
    "missing_status=df.isna().sum()"
   ]
  },
  {
   "cell_type": "code",
   "execution_count": 11,
   "id": "b17343b5",
   "metadata": {},
   "outputs": [],
   "source": [
    "df.dropna(subset = [\"Savingaccounts\",\"Checking account\"], inplace=True)"
   ]
  },
  {
   "cell_type": "code",
   "execution_count": 73,
   "id": "eb14d0f8",
   "metadata": {},
   "outputs": [
    {
     "data": {
      "text/html": [
       "<div>\n",
       "<style scoped>\n",
       "    .dataframe tbody tr th:only-of-type {\n",
       "        vertical-align: middle;\n",
       "    }\n",
       "\n",
       "    .dataframe tbody tr th {\n",
       "        vertical-align: top;\n",
       "    }\n",
       "\n",
       "    .dataframe thead th {\n",
       "        text-align: right;\n",
       "    }\n",
       "</style>\n",
       "<table border=\"1\" class=\"dataframe\">\n",
       "  <thead>\n",
       "    <tr style=\"text-align: right;\">\n",
       "      <th></th>\n",
       "      <th>Unnamed: 0</th>\n",
       "      <th>Age</th>\n",
       "      <th>Sex</th>\n",
       "      <th>Job</th>\n",
       "      <th>Housing</th>\n",
       "      <th>Savingaccounts</th>\n",
       "      <th>Checkingaccount</th>\n",
       "      <th>Creditamount</th>\n",
       "      <th>Duration</th>\n",
       "      <th>Purpose</th>\n",
       "      <th>Risk</th>\n",
       "    </tr>\n",
       "  </thead>\n",
       "  <tbody>\n",
       "    <tr>\n",
       "      <th>0</th>\n",
       "      <td>0</td>\n",
       "      <td>67</td>\n",
       "      <td>male</td>\n",
       "      <td>2</td>\n",
       "      <td>own</td>\n",
       "      <td>NaN</td>\n",
       "      <td>little</td>\n",
       "      <td>1169</td>\n",
       "      <td>6</td>\n",
       "      <td>radio/TV</td>\n",
       "      <td>good</td>\n",
       "    </tr>\n",
       "    <tr>\n",
       "      <th>1</th>\n",
       "      <td>1</td>\n",
       "      <td>22</td>\n",
       "      <td>female</td>\n",
       "      <td>2</td>\n",
       "      <td>own</td>\n",
       "      <td>little</td>\n",
       "      <td>moderate</td>\n",
       "      <td>5951</td>\n",
       "      <td>48</td>\n",
       "      <td>radio/TV</td>\n",
       "      <td>bad</td>\n",
       "    </tr>\n",
       "    <tr>\n",
       "      <th>2</th>\n",
       "      <td>2</td>\n",
       "      <td>49</td>\n",
       "      <td>male</td>\n",
       "      <td>1</td>\n",
       "      <td>own</td>\n",
       "      <td>little</td>\n",
       "      <td>NaN</td>\n",
       "      <td>2096</td>\n",
       "      <td>12</td>\n",
       "      <td>education</td>\n",
       "      <td>good</td>\n",
       "    </tr>\n",
       "    <tr>\n",
       "      <th>3</th>\n",
       "      <td>3</td>\n",
       "      <td>45</td>\n",
       "      <td>male</td>\n",
       "      <td>2</td>\n",
       "      <td>free</td>\n",
       "      <td>little</td>\n",
       "      <td>little</td>\n",
       "      <td>7882</td>\n",
       "      <td>42</td>\n",
       "      <td>furniture/equipment</td>\n",
       "      <td>good</td>\n",
       "    </tr>\n",
       "    <tr>\n",
       "      <th>4</th>\n",
       "      <td>4</td>\n",
       "      <td>53</td>\n",
       "      <td>male</td>\n",
       "      <td>2</td>\n",
       "      <td>free</td>\n",
       "      <td>little</td>\n",
       "      <td>little</td>\n",
       "      <td>4870</td>\n",
       "      <td>24</td>\n",
       "      <td>car</td>\n",
       "      <td>bad</td>\n",
       "    </tr>\n",
       "  </tbody>\n",
       "</table>\n",
       "</div>"
      ],
      "text/plain": [
       "   Unnamed: 0  Age     Sex  Job Housing Savingaccounts Checkingaccount  \\\n",
       "0           0   67    male    2     own            NaN          little   \n",
       "1           1   22  female    2     own         little        moderate   \n",
       "2           2   49    male    1     own         little             NaN   \n",
       "3           3   45    male    2    free         little          little   \n",
       "4           4   53    male    2    free         little          little   \n",
       "\n",
       "   Creditamount  Duration              Purpose  Risk  \n",
       "0          1169         6             radio/TV  good  \n",
       "1          5951        48             radio/TV   bad  \n",
       "2          2096        12            education  good  \n",
       "3          7882        42  furniture/equipment  good  \n",
       "4          4870        24                  car   bad  "
      ]
     },
     "execution_count": 73,
     "metadata": {},
     "output_type": "execute_result"
    }
   ],
   "source": [
    "df.head(5)"
   ]
  },
  {
   "cell_type": "code",
   "execution_count": 13,
   "id": "8bc1ba66",
   "metadata": {},
   "outputs": [
    {
     "name": "stdout",
     "output_type": "stream",
     "text": [
      "Unnamed: 0          0\n",
      "Age                 0\n",
      "Sex                 0\n",
      "Job                 0\n",
      "Housing             0\n",
      "Saving accounts     0\n",
      "Checking account    0\n",
      "Credit amount       0\n",
      "Duration            0\n",
      "Purpose             0\n",
      "Risk                0\n",
      "dtype: int64\n"
     ]
    }
   ],
   "source": [
    "print(df.isna().sum())\n",
    "missing_status=df.isna().sum()"
   ]
  },
  {
   "cell_type": "code",
   "execution_count": 14,
   "id": "1443bfbf",
   "metadata": {},
   "outputs": [
    {
     "data": {
      "text/plain": [
       "Index(['Unnamed: 0', 'Age', 'Sex', 'Job', 'Housing', 'Saving accounts',\n",
       "       'Checking account', 'Credit amount', 'Duration', 'Purpose', 'Risk'],\n",
       "      dtype='object')"
      ]
     },
     "execution_count": 14,
     "metadata": {},
     "output_type": "execute_result"
    }
   ],
   "source": [
    "df.columns"
   ]
  },
  {
   "cell_type": "code",
   "execution_count": 74,
   "id": "92213d6e",
   "metadata": {},
   "outputs": [
    {
     "data": {
      "text/html": [
       "<div>\n",
       "<style scoped>\n",
       "    .dataframe tbody tr th:only-of-type {\n",
       "        vertical-align: middle;\n",
       "    }\n",
       "\n",
       "    .dataframe tbody tr th {\n",
       "        vertical-align: top;\n",
       "    }\n",
       "\n",
       "    .dataframe thead th {\n",
       "        text-align: right;\n",
       "    }\n",
       "</style>\n",
       "<table border=\"1\" class=\"dataframe\">\n",
       "  <thead>\n",
       "    <tr style=\"text-align: right;\">\n",
       "      <th></th>\n",
       "      <th>Unnamed: 0</th>\n",
       "      <th>Age</th>\n",
       "      <th>Sex</th>\n",
       "      <th>Job</th>\n",
       "      <th>Housing</th>\n",
       "      <th>Savingaccounts</th>\n",
       "      <th>Checkingaccount</th>\n",
       "      <th>Creditamount</th>\n",
       "      <th>Duration</th>\n",
       "      <th>Purpose</th>\n",
       "      <th>Risk</th>\n",
       "    </tr>\n",
       "  </thead>\n",
       "  <tbody>\n",
       "    <tr>\n",
       "      <th>0</th>\n",
       "      <td>0</td>\n",
       "      <td>67</td>\n",
       "      <td>male</td>\n",
       "      <td>2</td>\n",
       "      <td>1</td>\n",
       "      <td>4</td>\n",
       "      <td>little</td>\n",
       "      <td>1169</td>\n",
       "      <td>6</td>\n",
       "      <td>radio/TV</td>\n",
       "      <td>1</td>\n",
       "    </tr>\n",
       "    <tr>\n",
       "      <th>1</th>\n",
       "      <td>1</td>\n",
       "      <td>22</td>\n",
       "      <td>female</td>\n",
       "      <td>2</td>\n",
       "      <td>1</td>\n",
       "      <td>0</td>\n",
       "      <td>moderate</td>\n",
       "      <td>5951</td>\n",
       "      <td>48</td>\n",
       "      <td>radio/TV</td>\n",
       "      <td>0</td>\n",
       "    </tr>\n",
       "    <tr>\n",
       "      <th>2</th>\n",
       "      <td>2</td>\n",
       "      <td>49</td>\n",
       "      <td>male</td>\n",
       "      <td>1</td>\n",
       "      <td>1</td>\n",
       "      <td>0</td>\n",
       "      <td>NaN</td>\n",
       "      <td>2096</td>\n",
       "      <td>12</td>\n",
       "      <td>education</td>\n",
       "      <td>1</td>\n",
       "    </tr>\n",
       "    <tr>\n",
       "      <th>3</th>\n",
       "      <td>3</td>\n",
       "      <td>45</td>\n",
       "      <td>male</td>\n",
       "      <td>2</td>\n",
       "      <td>0</td>\n",
       "      <td>0</td>\n",
       "      <td>little</td>\n",
       "      <td>7882</td>\n",
       "      <td>42</td>\n",
       "      <td>furniture/equipment</td>\n",
       "      <td>1</td>\n",
       "    </tr>\n",
       "    <tr>\n",
       "      <th>4</th>\n",
       "      <td>4</td>\n",
       "      <td>53</td>\n",
       "      <td>male</td>\n",
       "      <td>2</td>\n",
       "      <td>0</td>\n",
       "      <td>0</td>\n",
       "      <td>little</td>\n",
       "      <td>4870</td>\n",
       "      <td>24</td>\n",
       "      <td>car</td>\n",
       "      <td>0</td>\n",
       "    </tr>\n",
       "  </tbody>\n",
       "</table>\n",
       "</div>"
      ],
      "text/plain": [
       "   Unnamed: 0  Age     Sex  Job  Housing  Savingaccounts Checkingaccount  \\\n",
       "0           0   67    male    2        1               4          little   \n",
       "1           1   22  female    2        1               0        moderate   \n",
       "2           2   49    male    1        1               0             NaN   \n",
       "3           3   45    male    2        0               0          little   \n",
       "4           4   53    male    2        0               0          little   \n",
       "\n",
       "   Creditamount  Duration              Purpose  Risk  \n",
       "0          1169         6             radio/TV     1  \n",
       "1          5951        48             radio/TV     0  \n",
       "2          2096        12            education     1  \n",
       "3          7882        42  furniture/equipment     1  \n",
       "4          4870        24                  car     0  "
      ]
     },
     "execution_count": 74,
     "metadata": {},
     "output_type": "execute_result"
    }
   ],
   "source": [
    "from sklearn.preprocessing import LabelEncoder\n",
    "le = LabelEncoder()\n",
    "df.Housing = le.fit_transform(df.Housing)\n",
    "df.Savingaccounts = le.fit_transform(df.Savingaccounts)\n",
    "df.Risk = le.fit_transform(df.Risk)\n",
    "df.head(5)"
   ]
  },
  {
   "cell_type": "code",
   "execution_count": 28,
   "id": "0cf14929",
   "metadata": {},
   "outputs": [],
   "source": [
    "X=df[['Job','Housing']]\n",
    "Y=df[['Risk']]"
   ]
  },
  {
   "cell_type": "code",
   "execution_count": 29,
   "id": "f8705418",
   "metadata": {},
   "outputs": [],
   "source": [
    "X_train, X_test, Y_train, Y_test = train_test_split(X, Y, random_state=1)"
   ]
  },
  {
   "cell_type": "code",
   "execution_count": 30,
   "id": "c4a74f4e",
   "metadata": {},
   "outputs": [
    {
     "name": "stderr",
     "output_type": "stream",
     "text": [
      "C:\\Users\\rakes\\anaconda3\\lib\\site-packages\\sklearn\\neighbors\\_classification.py:179: DataConversionWarning: A column-vector y was passed when a 1d array was expected. Please change the shape of y to (n_samples,), for example using ravel().\n",
      "  return self._fit(X, y)\n"
     ]
    },
    {
     "data": {
      "text/plain": [
       "KNeighborsClassifier(metric='euclidean')"
      ]
     },
     "execution_count": 30,
     "metadata": {},
     "output_type": "execute_result"
    }
   ],
   "source": [
    "knn = KNeighborsClassifier(n_neighbors=5, metric='euclidean')\n",
    "knn.fit(X_train, Y_train)"
   ]
  },
  {
   "cell_type": "code",
   "execution_count": 75,
   "id": "109d54e4",
   "metadata": {},
   "outputs": [],
   "source": [
    "Y_pred = knn.predict(X_test)"
   ]
  },
  {
   "cell_type": "code",
   "execution_count": 76,
   "id": "9cf2da8b",
   "metadata": {},
   "outputs": [
    {
     "data": {
      "text/plain": [
       "array([[56, 13],\n",
       "       [74, 14]], dtype=int64)"
      ]
     },
     "execution_count": 76,
     "metadata": {},
     "output_type": "execute_result"
    }
   ],
   "source": [
    "confusion_matrix(Y_test, Y_pred)"
   ]
  },
  {
   "cell_type": "code",
   "execution_count": 77,
   "id": "95176cd4",
   "metadata": {},
   "outputs": [
    {
     "data": {
      "text/plain": [
       "0.445859872611465"
      ]
     },
     "execution_count": 77,
     "metadata": {},
     "output_type": "execute_result"
    }
   ],
   "source": [
    "from sklearn.metrics import accuracy_score\n",
    "accuracy_score(Y_test, Y_pred)"
   ]
  },
  {
   "cell_type": "code",
   "execution_count": 35,
   "id": "0df1e12b",
   "metadata": {},
   "outputs": [
    {
     "name": "stderr",
     "output_type": "stream",
     "text": [
      "C:\\Users\\rakes\\anaconda3\\lib\\site-packages\\sklearn\\neighbors\\_classification.py:179: DataConversionWarning: A column-vector y was passed when a 1d array was expected. Please change the shape of y to (n_samples,), for example using ravel().\n",
      "  return self._fit(X, y)\n",
      "C:\\Users\\rakes\\anaconda3\\lib\\site-packages\\sklearn\\neighbors\\_classification.py:179: DataConversionWarning: A column-vector y was passed when a 1d array was expected. Please change the shape of y to (n_samples,), for example using ravel().\n",
      "  return self._fit(X, y)\n",
      "C:\\Users\\rakes\\anaconda3\\lib\\site-packages\\sklearn\\neighbors\\_classification.py:179: DataConversionWarning: A column-vector y was passed when a 1d array was expected. Please change the shape of y to (n_samples,), for example using ravel().\n",
      "  return self._fit(X, y)\n",
      "C:\\Users\\rakes\\anaconda3\\lib\\site-packages\\sklearn\\neighbors\\_classification.py:179: DataConversionWarning: A column-vector y was passed when a 1d array was expected. Please change the shape of y to (n_samples,), for example using ravel().\n",
      "  return self._fit(X, y)\n",
      "C:\\Users\\rakes\\anaconda3\\lib\\site-packages\\sklearn\\neighbors\\_classification.py:179: DataConversionWarning: A column-vector y was passed when a 1d array was expected. Please change the shape of y to (n_samples,), for example using ravel().\n",
      "  return self._fit(X, y)\n",
      "C:\\Users\\rakes\\anaconda3\\lib\\site-packages\\sklearn\\neighbors\\_classification.py:179: DataConversionWarning: A column-vector y was passed when a 1d array was expected. Please change the shape of y to (n_samples,), for example using ravel().\n",
      "  return self._fit(X, y)\n",
      "C:\\Users\\rakes\\anaconda3\\lib\\site-packages\\sklearn\\neighbors\\_classification.py:179: DataConversionWarning: A column-vector y was passed when a 1d array was expected. Please change the shape of y to (n_samples,), for example using ravel().\n",
      "  return self._fit(X, y)\n",
      "C:\\Users\\rakes\\anaconda3\\lib\\site-packages\\sklearn\\neighbors\\_classification.py:179: DataConversionWarning: A column-vector y was passed when a 1d array was expected. Please change the shape of y to (n_samples,), for example using ravel().\n",
      "  return self._fit(X, y)\n",
      "C:\\Users\\rakes\\anaconda3\\lib\\site-packages\\sklearn\\neighbors\\_classification.py:179: DataConversionWarning: A column-vector y was passed when a 1d array was expected. Please change the shape of y to (n_samples,), for example using ravel().\n",
      "  return self._fit(X, y)\n",
      "C:\\Users\\rakes\\anaconda3\\lib\\site-packages\\sklearn\\neighbors\\_classification.py:179: DataConversionWarning: A column-vector y was passed when a 1d array was expected. Please change the shape of y to (n_samples,), for example using ravel().\n",
      "  return self._fit(X, y)\n",
      "C:\\Users\\rakes\\anaconda3\\lib\\site-packages\\sklearn\\neighbors\\_classification.py:179: DataConversionWarning: A column-vector y was passed when a 1d array was expected. Please change the shape of y to (n_samples,), for example using ravel().\n",
      "  return self._fit(X, y)\n",
      "C:\\Users\\rakes\\anaconda3\\lib\\site-packages\\sklearn\\neighbors\\_classification.py:179: DataConversionWarning: A column-vector y was passed when a 1d array was expected. Please change the shape of y to (n_samples,), for example using ravel().\n",
      "  return self._fit(X, y)\n",
      "C:\\Users\\rakes\\anaconda3\\lib\\site-packages\\sklearn\\neighbors\\_classification.py:179: DataConversionWarning: A column-vector y was passed when a 1d array was expected. Please change the shape of y to (n_samples,), for example using ravel().\n",
      "  return self._fit(X, y)\n",
      "C:\\Users\\rakes\\anaconda3\\lib\\site-packages\\sklearn\\neighbors\\_classification.py:179: DataConversionWarning: A column-vector y was passed when a 1d array was expected. Please change the shape of y to (n_samples,), for example using ravel().\n",
      "  return self._fit(X, y)\n",
      "C:\\Users\\rakes\\anaconda3\\lib\\site-packages\\sklearn\\neighbors\\_classification.py:179: DataConversionWarning: A column-vector y was passed when a 1d array was expected. Please change the shape of y to (n_samples,), for example using ravel().\n",
      "  return self._fit(X, y)\n",
      "C:\\Users\\rakes\\anaconda3\\lib\\site-packages\\sklearn\\neighbors\\_classification.py:179: DataConversionWarning: A column-vector y was passed when a 1d array was expected. Please change the shape of y to (n_samples,), for example using ravel().\n",
      "  return self._fit(X, y)\n",
      "C:\\Users\\rakes\\anaconda3\\lib\\site-packages\\sklearn\\neighbors\\_classification.py:179: DataConversionWarning: A column-vector y was passed when a 1d array was expected. Please change the shape of y to (n_samples,), for example using ravel().\n",
      "  return self._fit(X, y)\n",
      "C:\\Users\\rakes\\anaconda3\\lib\\site-packages\\sklearn\\neighbors\\_classification.py:179: DataConversionWarning: A column-vector y was passed when a 1d array was expected. Please change the shape of y to (n_samples,), for example using ravel().\n",
      "  return self._fit(X, y)\n",
      "C:\\Users\\rakes\\anaconda3\\lib\\site-packages\\sklearn\\neighbors\\_classification.py:179: DataConversionWarning: A column-vector y was passed when a 1d array was expected. Please change the shape of y to (n_samples,), for example using ravel().\n",
      "  return self._fit(X, y)\n",
      "C:\\Users\\rakes\\anaconda3\\lib\\site-packages\\sklearn\\neighbors\\_classification.py:179: DataConversionWarning: A column-vector y was passed when a 1d array was expected. Please change the shape of y to (n_samples,), for example using ravel().\n",
      "  return self._fit(X, y)\n",
      "C:\\Users\\rakes\\anaconda3\\lib\\site-packages\\sklearn\\neighbors\\_classification.py:179: DataConversionWarning: A column-vector y was passed when a 1d array was expected. Please change the shape of y to (n_samples,), for example using ravel().\n",
      "  return self._fit(X, y)\n",
      "C:\\Users\\rakes\\anaconda3\\lib\\site-packages\\sklearn\\neighbors\\_classification.py:179: DataConversionWarning: A column-vector y was passed when a 1d array was expected. Please change the shape of y to (n_samples,), for example using ravel().\n",
      "  return self._fit(X, y)\n",
      "C:\\Users\\rakes\\anaconda3\\lib\\site-packages\\sklearn\\neighbors\\_classification.py:179: DataConversionWarning: A column-vector y was passed when a 1d array was expected. Please change the shape of y to (n_samples,), for example using ravel().\n",
      "  return self._fit(X, y)\n",
      "C:\\Users\\rakes\\anaconda3\\lib\\site-packages\\sklearn\\neighbors\\_classification.py:179: DataConversionWarning: A column-vector y was passed when a 1d array was expected. Please change the shape of y to (n_samples,), for example using ravel().\n",
      "  return self._fit(X, y)\n",
      "C:\\Users\\rakes\\anaconda3\\lib\\site-packages\\sklearn\\neighbors\\_classification.py:179: DataConversionWarning: A column-vector y was passed when a 1d array was expected. Please change the shape of y to (n_samples,), for example using ravel().\n",
      "  return self._fit(X, y)\n",
      "C:\\Users\\rakes\\anaconda3\\lib\\site-packages\\sklearn\\neighbors\\_classification.py:179: DataConversionWarning: A column-vector y was passed when a 1d array was expected. Please change the shape of y to (n_samples,), for example using ravel().\n",
      "  return self._fit(X, y)\n",
      "C:\\Users\\rakes\\anaconda3\\lib\\site-packages\\sklearn\\neighbors\\_classification.py:179: DataConversionWarning: A column-vector y was passed when a 1d array was expected. Please change the shape of y to (n_samples,), for example using ravel().\n",
      "  return self._fit(X, y)\n",
      "C:\\Users\\rakes\\anaconda3\\lib\\site-packages\\sklearn\\neighbors\\_classification.py:179: DataConversionWarning: A column-vector y was passed when a 1d array was expected. Please change the shape of y to (n_samples,), for example using ravel().\n",
      "  return self._fit(X, y)\n",
      "C:\\Users\\rakes\\anaconda3\\lib\\site-packages\\sklearn\\neighbors\\_classification.py:179: DataConversionWarning: A column-vector y was passed when a 1d array was expected. Please change the shape of y to (n_samples,), for example using ravel().\n",
      "  return self._fit(X, y)\n",
      "C:\\Users\\rakes\\anaconda3\\lib\\site-packages\\sklearn\\neighbors\\_classification.py:179: DataConversionWarning: A column-vector y was passed when a 1d array was expected. Please change the shape of y to (n_samples,), for example using ravel().\n",
      "  return self._fit(X, y)\n",
      "C:\\Users\\rakes\\anaconda3\\lib\\site-packages\\sklearn\\neighbors\\_classification.py:179: DataConversionWarning: A column-vector y was passed when a 1d array was expected. Please change the shape of y to (n_samples,), for example using ravel().\n",
      "  return self._fit(X, y)\n",
      "C:\\Users\\rakes\\anaconda3\\lib\\site-packages\\sklearn\\neighbors\\_classification.py:179: DataConversionWarning: A column-vector y was passed when a 1d array was expected. Please change the shape of y to (n_samples,), for example using ravel().\n",
      "  return self._fit(X, y)\n",
      "C:\\Users\\rakes\\anaconda3\\lib\\site-packages\\sklearn\\neighbors\\_classification.py:179: DataConversionWarning: A column-vector y was passed when a 1d array was expected. Please change the shape of y to (n_samples,), for example using ravel().\n",
      "  return self._fit(X, y)\n",
      "C:\\Users\\rakes\\anaconda3\\lib\\site-packages\\sklearn\\neighbors\\_classification.py:179: DataConversionWarning: A column-vector y was passed when a 1d array was expected. Please change the shape of y to (n_samples,), for example using ravel().\n",
      "  return self._fit(X, y)\n",
      "C:\\Users\\rakes\\anaconda3\\lib\\site-packages\\sklearn\\neighbors\\_classification.py:179: DataConversionWarning: A column-vector y was passed when a 1d array was expected. Please change the shape of y to (n_samples,), for example using ravel().\n",
      "  return self._fit(X, y)\n",
      "C:\\Users\\rakes\\anaconda3\\lib\\site-packages\\sklearn\\neighbors\\_classification.py:179: DataConversionWarning: A column-vector y was passed when a 1d array was expected. Please change the shape of y to (n_samples,), for example using ravel().\n",
      "  return self._fit(X, y)\n",
      "C:\\Users\\rakes\\anaconda3\\lib\\site-packages\\sklearn\\neighbors\\_classification.py:179: DataConversionWarning: A column-vector y was passed when a 1d array was expected. Please change the shape of y to (n_samples,), for example using ravel().\n",
      "  return self._fit(X, y)\n",
      "C:\\Users\\rakes\\anaconda3\\lib\\site-packages\\sklearn\\neighbors\\_classification.py:179: DataConversionWarning: A column-vector y was passed when a 1d array was expected. Please change the shape of y to (n_samples,), for example using ravel().\n",
      "  return self._fit(X, y)\n",
      "C:\\Users\\rakes\\anaconda3\\lib\\site-packages\\sklearn\\neighbors\\_classification.py:179: DataConversionWarning: A column-vector y was passed when a 1d array was expected. Please change the shape of y to (n_samples,), for example using ravel().\n",
      "  return self._fit(X, y)\n"
     ]
    },
    {
     "data": {
      "image/png": "[encoded data removed]",
      "text/plain": [
       "<Figure size 720x432 with 1 Axes>"
      ]
     },
     "metadata": {},
     "output_type": "display_data"
    },
    {
     "name": "stdout",
     "output_type": "stream",
     "text": [
      "Minimum error:- 0.3893129770992366 at K = 9\n"
     ]
    }
   ],
   "source": [
    "error_rate = []\n",
    "for i in range(1,40):\n",
    " knn = KNeighborsClassifier(n_neighbors=i)\n",
    " knn.fit(X_train,Y_train)\n",
    " pred_i = knn.predict(X_test)\n",
    " #print (pred_i)\n",
    " #print (1-accuracy_score(y_test, pred_i))\n",
    " error_rate.append(1-accuracy_score(Y_test, pred_i))\n",
    "\n",
    "plt.figure(figsize=(10,6))\n",
    "plt.plot(range(1,40),error_rate,color='blue', linestyle='dashed', \n",
    "         marker='o',markerfacecolor='red', markersize=10)\n",
    "plt.title('Error Rate vs. K Value')\n",
    "plt.xlabel('K')\n",
    "plt.ylabel('Error Rate')\n",
    "plt.show()\n",
    "print(\"Minimum error:-\",min(error_rate),\"at K =\",error_rate.index(min(error_rate))+1)"
   ]
  },
  {
   "cell_type": "code",
   "execution_count": 36,
   "id": "c5f362e3",
   "metadata": {},
   "outputs": [
    {
     "name": "stderr",
     "output_type": "stream",
     "text": [
      "C:\\Users\\rakes\\anaconda3\\lib\\site-packages\\sklearn\\neighbors\\_classification.py:179: DataConversionWarning: A column-vector y was passed when a 1d array was expected. Please change the shape of y to (n_samples,), for example using ravel().\n",
      "  return self._fit(X, y)\n"
     ]
    },
    {
     "data": {
      "text/plain": [
       "KNeighborsClassifier(metric='euclidean', n_neighbors=11)"
      ]
     },
     "execution_count": 36,
     "metadata": {},
     "output_type": "execute_result"
    }
   ],
   "source": [
    "knn = KNeighborsClassifier(n_neighbors=11, metric='euclidean')\n",
    "knn.fit(X_train, Y_train)"
   ]
  },
  {
   "cell_type": "code",
   "execution_count": 37,
   "id": "51668225",
   "metadata": {},
   "outputs": [],
   "source": [
    "Y_pred = knn.predict(X_test)"
   ]
  },
  {
   "cell_type": "code",
   "execution_count": 38,
   "id": "25cc27f9",
   "metadata": {},
   "outputs": [
    {
     "data": {
      "text/plain": [
       "0.549618320610687"
      ]
     },
     "execution_count": 38,
     "metadata": {},
     "output_type": "execute_result"
    }
   ],
   "source": [
    "accuracy_score(Y_test, Y_pred)"
   ]
  },
  {
   "cell_type": "code",
   "execution_count": 39,
   "id": "3584333a",
   "metadata": {},
   "outputs": [
    {
     "ename": "ModuleNotFoundError",
     "evalue": "No module named 'graphviz'",
     "output_type": "error",
     "traceback": [
      "\u001b[1;31m---------------------------------------------------------------------------\u001b[0m",
      "\u001b[1;31mModuleNotFoundError\u001b[0m                       Traceback (most recent call last)",
      "\u001b[1;32m~\\AppData\\Local\\Temp/ipykernel_17984/2729947734.py\u001b[0m in \u001b[0;36m<module>\u001b[1;34m\u001b[0m\n\u001b[0;32m      2\u001b[0m \u001b[1;32mfrom\u001b[0m \u001b[0msklearn\u001b[0m\u001b[1;33m.\u001b[0m\u001b[0mtree\u001b[0m \u001b[1;32mimport\u001b[0m \u001b[0mDecisionTreeClassifier\u001b[0m \u001b[1;32mas\u001b[0m \u001b[0mdtree\u001b[0m\u001b[1;33m\u001b[0m\u001b[1;33m\u001b[0m\u001b[0m\n\u001b[0;32m      3\u001b[0m \u001b[1;32mfrom\u001b[0m \u001b[0msklearn\u001b[0m\u001b[1;33m.\u001b[0m\u001b[0mtree\u001b[0m \u001b[1;32mimport\u001b[0m \u001b[0mexport_graphviz\u001b[0m\u001b[1;33m\u001b[0m\u001b[1;33m\u001b[0m\u001b[0m\n\u001b[1;32m----> 4\u001b[1;33m \u001b[1;32mimport\u001b[0m \u001b[0mgraphviz\u001b[0m\u001b[1;33m\u001b[0m\u001b[1;33m\u001b[0m\u001b[0m\n\u001b[0m",
      "\u001b[1;31mModuleNotFoundError\u001b[0m: No module named 'graphviz'"
     ]
    }
   ],
   "source": [
    "from sklearn.preprocessing import StandardScaler\n",
    "from sklearn.tree import DecisionTreeClassifier as dtree\n",
    "from sklearn.tree import export_graphviz\n",
    "import graphviz"
   ]
  },
  {
   "cell_type": "code",
   "execution_count": 40,
   "id": "717b6f4e",
   "metadata": {},
   "outputs": [],
   "source": [
    "from IPython.core.interactiveshell import InteractiveShell\n",
    "InteractiveShell.ast_node_interactivity = \"all\""
   ]
  },
  {
   "cell_type": "code",
   "execution_count": 79,
   "id": "18c5a739",
   "metadata": {},
   "outputs": [],
   "source": [
    "X=df[['Job','Housing','Savingaccounts']]\n",
    "Y=df[['Risk']]"
   ]
  },
  {
   "cell_type": "code",
   "execution_count": 80,
   "id": "29f39c9a",
   "metadata": {},
   "outputs": [
    {
     "data": {
      "text/plain": [
       "StandardScaler()"
      ]
     },
     "execution_count": 80,
     "metadata": {},
     "output_type": "execute_result"
    }
   ],
   "source": [
    "ss = StandardScaler()\n",
    "ss.fit(X)\n",
    "X = ss.transform(X)"
   ]
  },
  {
   "cell_type": "code",
   "execution_count": 81,
   "id": "a9e75591",
   "metadata": {},
   "outputs": [],
   "source": [
    "X_train, X_test, Y_train, Y_test = train_test_split(X, Y, test_size = 0.3, shuffle = True, stratify = Y)"
   ]
  },
  {
   "cell_type": "code",
   "execution_count": 82,
   "id": "80899042",
   "metadata": {},
   "outputs": [
    {
     "data": {
      "text/plain": [
       "(700, 3)"
      ]
     },
     "execution_count": 82,
     "metadata": {},
     "output_type": "execute_result"
    },
    {
     "name": "stdout",
     "output_type": "stream",
     "text": [
      "\n"
     ]
    },
    {
     "data": {
      "text/plain": [
       "(300, 3)"
      ]
     },
     "execution_count": 82,
     "metadata": {},
     "output_type": "execute_result"
    },
    {
     "name": "stdout",
     "output_type": "stream",
     "text": [
      "\n"
     ]
    }
   ],
   "source": [
    "X_train.shape \n",
    "print()\n",
    "\n",
    "X_test.shape  \n",
    "print()"
   ]
  },
  {
   "cell_type": "code",
   "execution_count": 48,
   "id": "76d946c5",
   "metadata": {},
   "outputs": [],
   "source": [
    "ct = dtree(criterion=\"gini\", max_depth=None)"
   ]
  },
  {
   "cell_type": "code",
   "execution_count": 83,
   "id": "2c7ae47e",
   "metadata": {},
   "outputs": [
    {
     "data": {
      "text/plain": [
       "DecisionTreeClassifier()"
      ]
     },
     "execution_count": 83,
     "metadata": {},
     "output_type": "execute_result"
    }
   ],
   "source": [
    "ct.fit(X_train,Y_train)"
   ]
  },
  {
   "cell_type": "code",
   "execution_count": 50,
   "id": "c06c09c8",
   "metadata": {},
   "outputs": [],
   "source": [
    "Y_te = ct.predict(X_test)"
   ]
  },
  {
   "cell_type": "code",
   "execution_count": 84,
   "id": "5091b428",
   "metadata": {},
   "outputs": [],
   "source": [
    "Y_te = Y_te.reshape(157,1)"
   ]
  },
  {
   "cell_type": "code",
   "execution_count": 52,
   "id": "a2c027ea",
   "metadata": {},
   "outputs": [
    {
     "data": {
      "text/plain": [
       "Risk    0.547771\n",
       "dtype: float64"
      ]
     },
     "execution_count": 52,
     "metadata": {},
     "output_type": "execute_result"
    }
   ],
   "source": [
    "np.sum((Y_test == Y_te))/Y_test.size"
   ]
  },
  {
   "cell_type": "code",
   "execution_count": 85,
   "id": "fee9ced0",
   "metadata": {},
   "outputs": [
    {
     "data": {
      "text/plain": [
       "<Figure size 864x504 with 0 Axes>"
      ]
     },
     "execution_count": 85,
     "metadata": {},
     "output_type": "execute_result"
    },
    {
     "data": {
      "text/plain": [
       "[Text(309.515625, 356.73749999999995, 'X[2] <= 0.25\\ngini = 0.42\\nsamples = 700\\nvalue = [210, 490]'),\n",
       " Text(183.675, 309.1725, 'X[1] <= 0.808\\ngini = 0.463\\nsamples = 486\\nvalue = [177, 309]'),\n",
       " Text(111.60000000000001, 261.60749999999996, 'X[1] <= -1.075\\ngini = 0.446\\nsamples = 402\\nvalue = [135, 267]'),\n",
       " Text(51.150000000000006, 214.0425, 'X[0] <= -0.618\\ngini = 0.496\\nsamples = 53\\nvalue = [24, 29]'),\n",
       " Text(27.900000000000002, 166.4775, 'X[2] <= -0.383\\ngini = 0.444\\nsamples = 6\\nvalue = [4, 2]'),\n",
       " Text(18.6, 118.91250000000002, 'X[0] <= -2.149\\ngini = 0.48\\nsamples = 5\\nvalue = [3, 2]'),\n",
       " Text(9.3, 71.34749999999997, 'gini = 0.5\\nsamples = 2\\nvalue = [1, 1]'),\n",
       " Text(27.900000000000002, 71.34749999999997, 'gini = 0.444\\nsamples = 3\\nvalue = [2, 1]'),\n",
       " Text(37.2, 118.91250000000002, 'gini = 0.0\\nsamples = 1\\nvalue = [1, 0]'),\n",
       " Text(74.4, 166.4775, 'X[0] <= 0.912\\ngini = 0.489\\nsamples = 47\\nvalue = [20, 27]'),\n",
       " Text(55.800000000000004, 118.91250000000002, 'X[2] <= -0.383\\ngini = 0.497\\nsamples = 28\\nvalue = [13, 15]'),\n",
       " Text(46.5, 71.34749999999997, 'gini = 0.499\\nsamples = 23\\nvalue = [11, 12]'),\n",
       " Text(65.10000000000001, 71.34749999999997, 'gini = 0.48\\nsamples = 5\\nvalue = [2, 3]'),\n",
       " Text(93.0, 118.91250000000002, 'X[2] <= -0.383\\ngini = 0.465\\nsamples = 19\\nvalue = [7, 12]'),\n",
       " Text(83.7, 71.34749999999997, 'gini = 0.457\\nsamples = 17\\nvalue = [6, 11]'),\n",
       " Text(102.30000000000001, 71.34749999999997, 'gini = 0.5\\nsamples = 2\\nvalue = [1, 1]'),\n",
       " Text(172.05, 214.0425, 'X[0] <= 0.912\\ngini = 0.434\\nsamples = 349\\nvalue = [111, 238]'),\n",
       " Text(148.8, 166.4775, 'X[2] <= -0.383\\ngini = 0.422\\nsamples = 304\\nvalue = [92, 212]'),\n",
       " Text(130.20000000000002, 118.91250000000002, 'X[0] <= -0.618\\ngini = 0.432\\nsamples = 260\\nvalue = [82, 178]'),\n",
       " Text(120.9, 71.34749999999997, 'X[0] <= -2.149\\ngini = 0.4\\nsamples = 76\\nvalue = [21, 55]'),\n",
       " Text(111.60000000000001, 23.782500000000027, 'gini = 0.444\\nsamples = 6\\nvalue = [2, 4]'),\n",
       " Text(130.20000000000002, 23.782500000000027, 'gini = 0.396\\nsamples = 70\\nvalue = [19, 51]'),\n",
       " Text(139.5, 71.34749999999997, 'gini = 0.443\\nsamples = 184\\nvalue = [61, 123]'),\n",
       " Text(167.4, 118.91250000000002, 'X[0] <= -0.618\\ngini = 0.351\\nsamples = 44\\nvalue = [10, 34]'),\n",
       " Text(158.10000000000002, 71.34749999999997, 'gini = 0.298\\nsamples = 11\\nvalue = [2, 9]'),\n",
       " Text(176.70000000000002, 71.34749999999997, 'gini = 0.367\\nsamples = 33\\nvalue = [8, 25]'),\n",
       " Text(195.3, 166.4775, 'X[2] <= -0.383\\ngini = 0.488\\nsamples = 45\\nvalue = [19, 26]'),\n",
       " Text(186.0, 118.91250000000002, 'gini = 0.484\\nsamples = 39\\nvalue = [16, 23]'),\n",
       " Text(204.60000000000002, 118.91250000000002, 'gini = 0.5\\nsamples = 6\\nvalue = [3, 3]'),\n",
       " Text(255.75000000000003, 261.60749999999996, 'X[0] <= -2.149\\ngini = 0.5\\nsamples = 84\\nvalue = [42, 42]'),\n",
       " Text(246.45000000000002, 214.0425, 'gini = 0.0\\nsamples = 2\\nvalue = [2, 0]'),\n",
       " Text(265.05, 214.0425, 'X[0] <= 0.912\\ngini = 0.5\\nsamples = 82\\nvalue = [40, 42]'),\n",
       " Text(241.8, 166.4775, 'X[0] <= -0.618\\ngini = 0.5\\nsamples = 71\\nvalue = [36, 35]'),\n",
       " Text(223.20000000000002, 118.91250000000002, 'X[2] <= -0.383\\ngini = 0.488\\nsamples = 19\\nvalue = [8, 11]'),\n",
       " Text(213.9, 71.34749999999997, 'gini = 0.48\\nsamples = 15\\nvalue = [6, 9]'),\n",
       " Text(232.50000000000003, 71.34749999999997, 'gini = 0.5\\nsamples = 4\\nvalue = [2, 2]'),\n",
       " Text(260.40000000000003, 118.91250000000002, 'X[2] <= -0.383\\ngini = 0.497\\nsamples = 52\\nvalue = [28, 24]'),\n",
       " Text(251.10000000000002, 71.34749999999997, 'gini = 0.498\\nsamples = 43\\nvalue = [23, 20]'),\n",
       " Text(269.70000000000005, 71.34749999999997, 'gini = 0.494\\nsamples = 9\\nvalue = [5, 4]'),\n",
       " Text(288.3, 166.4775, 'X[2] <= -0.383\\ngini = 0.463\\nsamples = 11\\nvalue = [4, 7]'),\n",
       " Text(279.0, 118.91250000000002, 'gini = 0.494\\nsamples = 9\\nvalue = [4, 5]'),\n",
       " Text(297.6, 118.91250000000002, 'gini = 0.0\\nsamples = 2\\nvalue = [0, 2]'),\n",
       " Text(435.35625000000005, 309.1725, 'X[1] <= -1.075\\ngini = 0.261\\nsamples = 214\\nvalue = [33, 181]'),\n",
       " Text(353.40000000000003, 261.60749999999996, 'X[2] <= 1.517\\ngini = 0.413\\nsamples = 24\\nvalue = [7, 17]'),\n",
       " Text(334.8, 214.0425, 'X[2] <= 0.883\\ngini = 0.49\\nsamples = 7\\nvalue = [4, 3]'),\n",
       " Text(325.5, 166.4775, 'X[0] <= -1.384\\ngini = 0.48\\nsamples = 5\\nvalue = [2, 3]'),\n",
       " Text(316.20000000000005, 118.91250000000002, 'gini = 0.0\\nsamples = 1\\nvalue = [0, 1]'),\n",
       " Text(334.8, 118.91250000000002, 'gini = 0.5\\nsamples = 4\\nvalue = [2, 2]'),\n",
       " Text(344.1, 166.4775, 'gini = 0.0\\nsamples = 2\\nvalue = [2, 0]'),\n",
       " Text(372.0, 214.0425, 'X[0] <= 0.912\\ngini = 0.291\\nsamples = 17\\nvalue = [3, 14]'),\n",
       " Text(362.70000000000005, 166.4775, 'X[0] <= -1.384\\ngini = 0.355\\nsamples = 13\\nvalue = [3, 10]'),\n",
       " Text(353.40000000000003, 118.91250000000002, 'gini = 0.0\\nsamples = 1\\nvalue = [0, 1]'),\n",
       " Text(372.0, 118.91250000000002, 'gini = 0.375\\nsamples = 12\\nvalue = [3, 9]'),\n",
       " Text(381.3, 166.4775, 'gini = 0.0\\nsamples = 4\\nvalue = [0, 4]'),\n",
       " Text(517.3125, 261.60749999999996, 'X[2] <= 1.517\\ngini = 0.236\\nsamples = 190\\nvalue = [26, 164]'),\n",
       " Text(439.425, 214.0425, 'X[0] <= -0.618\\ngini = 0.193\\nsamples = 74\\nvalue = [8, 66]'),\n",
       " Text(399.90000000000003, 166.4775, 'X[2] <= 0.883\\ngini = 0.391\\nsamples = 15\\nvalue = [4, 11]'),\n",
       " Text(390.6, 118.91250000000002, 'X[0] <= -2.149\\ngini = 0.48\\nsamples = 10\\nvalue = [4, 6]'),\n",
       " Text(381.3, 71.34749999999997, 'gini = 0.0\\nsamples = 1\\nvalue = [0, 1]'),\n",
       " Text(399.90000000000003, 71.34749999999997, 'X[1] <= 0.808\\ngini = 0.494\\nsamples = 9\\nvalue = [4, 5]'),\n",
       " Text(390.6, 23.782500000000027, 'gini = 0.49\\nsamples = 7\\nvalue = [3, 4]'),\n",
       " Text(409.20000000000005, 23.782500000000027, 'gini = 0.5\\nsamples = 2\\nvalue = [1, 1]'),\n",
       " Text(409.20000000000005, 118.91250000000002, 'gini = 0.0\\nsamples = 5\\nvalue = [0, 5]'),\n",
       " Text(478.95000000000005, 166.4775, 'X[0] <= 0.912\\ngini = 0.126\\nsamples = 59\\nvalue = [4, 55]'),\n",
       " Text(455.70000000000005, 118.91250000000002, 'X[1] <= 0.808\\ngini = 0.105\\nsamples = 54\\nvalue = [3, 51]'),\n",
       " Text(437.1, 71.34749999999997, 'X[2] <= 0.883\\ngini = 0.087\\nsamples = 44\\nvalue = [2, 42]'),\n",
       " Text(427.8, 23.782500000000027, 'gini = 0.159\\nsamples = 23\\nvalue = [2, 21]'),\n",
       " Text(446.40000000000003, 23.782500000000027, 'gini = 0.0\\nsamples = 21\\nvalue = [0, 21]'),\n",
       " Text(474.3, 71.34749999999997, 'X[2] <= 0.883\\ngini = 0.18\\nsamples = 10\\nvalue = [1, 9]'),\n",
       " Text(465.00000000000006, 23.782500000000027, 'gini = 0.0\\nsamples = 4\\nvalue = [0, 4]'),\n",
       " Text(483.6, 23.782500000000027, 'gini = 0.278\\nsamples = 6\\nvalue = [1, 5]'),\n",
       " Text(502.20000000000005, 118.91250000000002, 'X[2] <= 0.883\\ngini = 0.32\\nsamples = 5\\nvalue = [1, 4]'),\n",
       " Text(492.90000000000003, 71.34749999999997, 'gini = 0.0\\nsamples = 2\\nvalue = [0, 2]'),\n",
       " Text(511.50000000000006, 71.34749999999997, 'X[1] <= 0.808\\ngini = 0.444\\nsamples = 3\\nvalue = [1, 2]'),\n",
       " Text(502.20000000000005, 23.782500000000027, 'gini = 0.5\\nsamples = 2\\nvalue = [1, 1]'),\n",
       " Text(520.8000000000001, 23.782500000000027, 'gini = 0.0\\nsamples = 1\\nvalue = [0, 1]'),\n",
       " Text(595.2, 214.0425, 'X[0] <= -0.618\\ngini = 0.262\\nsamples = 116\\nvalue = [18, 98]'),\n",
       " Text(558.0, 166.4775, 'X[0] <= -2.149\\ngini = 0.142\\nsamples = 26\\nvalue = [2, 24]'),\n",
       " Text(539.4000000000001, 118.91250000000002, 'X[1] <= 0.808\\ngini = 0.375\\nsamples = 4\\nvalue = [1, 3]'),\n",
       " Text(530.1, 71.34749999999997, 'gini = 0.444\\nsamples = 3\\nvalue = [1, 2]'),\n",
       " Text(548.7, 71.34749999999997, 'gini = 0.0\\nsamples = 1\\nvalue = [0, 1]'),\n",
       " Text(576.6, 118.91250000000002, 'X[1] <= 0.808\\ngini = 0.087\\nsamples = 22\\nvalue = [1, 21]'),\n",
       " Text(567.3000000000001, 71.34749999999997, 'gini = 0.111\\nsamples = 17\\nvalue = [1, 16]'),\n",
       " Text(585.9000000000001, 71.34749999999997, 'gini = 0.0\\nsamples = 5\\nvalue = [0, 5]'),\n",
       " Text(632.4000000000001, 166.4775, 'X[1] <= 0.808\\ngini = 0.292\\nsamples = 90\\nvalue = [16, 74]'),\n",
       " Text(613.8000000000001, 118.91250000000002, 'X[0] <= 0.912\\ngini = 0.272\\nsamples = 74\\nvalue = [12, 62]'),\n",
       " Text(604.5, 71.34749999999997, 'gini = 0.259\\nsamples = 59\\nvalue = [9, 50]'),\n",
       " Text(623.1, 71.34749999999997, 'gini = 0.32\\nsamples = 15\\nvalue = [3, 12]'),\n",
       " Text(651.0, 118.91250000000002, 'X[0] <= 0.912\\ngini = 0.375\\nsamples = 16\\nvalue = [4, 12]'),\n",
       " Text(641.7, 71.34749999999997, 'gini = 0.391\\nsamples = 15\\nvalue = [4, 11]'),\n",
       " Text(660.3000000000001, 71.34749999999997, 'gini = 0.0\\nsamples = 1\\nvalue = [0, 1]')]"
      ]
     },
     "execution_count": 85,
     "metadata": {},
     "output_type": "execute_result"
    },
    {
     "data": {
      "image/png": "[encoded data removed]",
      "text/plain": [
       "<Figure size 864x504 with 1 Axes>"
      ]
     },
     "metadata": {
      "needs_background": "light"
     },
     "output_type": "display_data"
    }
   ],
   "source": [
    "from sklearn import tree\n",
    "plt.figure(figsize=(12,7))\n",
    "tree.plot_tree(ct, filled=True, fontsize=12)"
   ]
  },
  {
   "cell_type": "code",
   "execution_count": 54,
   "id": "29d588c3",
   "metadata": {},
   "outputs": [],
   "source": [
    "from sklearn.ensemble import RandomForestRegressor\n",
    "from sklearn.metrics import mean_absolute_error"
   ]
  },
  {
   "cell_type": "code",
   "execution_count": 55,
   "id": "c334a0cd",
   "metadata": {},
   "outputs": [
    {
     "name": "stderr",
     "output_type": "stream",
     "text": [
      "C:\\Users\\rakes\\AppData\\Local\\Temp/ipykernel_17984/1616795480.py:2: DataConversionWarning: A column-vector y was passed when a 1d array was expected. Please change the shape of y to (n_samples,), for example using ravel().\n",
      "  model.fit(X_train, Y_train)\n"
     ]
    },
    {
     "data": {
      "text/plain": [
       "RandomForestRegressor(random_state=1)"
      ]
     },
     "execution_count": 55,
     "metadata": {},
     "output_type": "execute_result"
    }
   ],
   "source": [
    "model = RandomForestRegressor(random_state=1)\n",
    "model.fit(X_train, Y_train)"
   ]
  },
  {
   "cell_type": "code",
   "execution_count": 56,
   "id": "75a63819",
   "metadata": {},
   "outputs": [
    {
     "name": "stdout",
     "output_type": "stream",
     "text": [
      "[0.59485941 0.65343177 0.59485941 0.59485941 0.52667241 0.708229\n",
      " 0.62117592 0.52667241 0.708229   0.59485941 0.42393882 0.42393882\n",
      " 0.708229   0.42393882 0.59485941 0.52667241 0.59485941 0.59485941\n",
      " 0.59485941 0.59485941 0.59485941 0.59485941 0.708229   0.62117592\n",
      " 0.59485941 0.59485941 0.52667241 0.52667241 0.52667241 0.42393882\n",
      " 0.42393882 0.3404102  0.42393882 0.59485941 0.42393882 0.708229\n",
      " 0.708229   0.59485941 0.708229   0.708229   0.59485941 0.708229\n",
      " 0.708229   0.708229   0.59485941 0.708229   0.59485941 0.42393882\n",
      " 0.708229   0.42393882 0.50929704 0.3404102  0.708229   0.59485941\n",
      " 0.42393882 0.52667241 0.50929704 0.42393882 0.59485941 0.58237124\n",
      " 0.42393882 0.62117592 0.59485941 0.52667241 0.52667241 0.708229\n",
      " 0.59485941 0.01492308 0.58237124 0.59485941 0.62117592 0.58237124\n",
      " 0.58237124 0.708229   0.59485941 0.708229   0.59485941 0.708229\n",
      " 0.59485941 0.52667241 0.52667241 0.42393882 0.58237124 0.59485941\n",
      " 0.52667241 0.708229   0.3404102  0.42393882 0.59485941 0.36869625\n",
      " 0.59485941 0.59485941 0.59485941 0.59485941 0.52667241 0.62117592\n",
      " 0.58237124 0.59485941 0.59485941 0.3404102  0.59485941 0.42393882\n",
      " 0.708229   0.52667241 0.62117592 0.59485941 0.59485941 0.52667241\n",
      " 0.42393882 0.59485941 0.3404102  0.59485941 0.708229   0.3404102\n",
      " 0.52667241 0.50929704 0.59485941 0.3404102  0.59485941 0.59485941\n",
      " 0.59485941 0.708229   0.59485941 0.59485941 0.59485941 0.62117592\n",
      " 0.52667241 0.708229   0.52667241 0.59485941 0.708229   0.708229\n",
      " 0.59485941 0.52667241 0.62117592 0.708229   0.708229   0.59485941\n",
      " 0.59485941 0.59485941 0.59485941 0.01492308 0.59485941 0.59485941\n",
      " 0.59485941 0.36869625 0.59485941 0.59485941 0.58237124 0.42393882\n",
      " 0.52667241 0.59485941 0.59485941 0.59485941 0.3404102  0.59485941\n",
      " 0.59485941]\n",
      "MAE: 0.477\n"
     ]
    }
   ],
   "source": [
    "Yhat = model.predict(X_test)\n",
    "print (Yhat)\n",
    "# evaluate predictions\n",
    "mae = mean_absolute_error(Y_test, Yhat)\n",
    "print('MAE: %.3f' % mae)"
   ]
  },
  {
   "cell_type": "code",
   "execution_count": 91,
   "id": "8456c651",
   "metadata": {},
   "outputs": [
    {
     "name": "stderr",
     "output_type": "stream",
     "text": [
      "C:\\Users\\rakes\\AppData\\Local\\Temp/ipykernel_17984/117644506.py:8: DataConversionWarning: A column-vector y was passed when a 1d array was expected. Please change the shape of y to (n_samples,), for example using ravel().\n",
      "  clf.fit(X_train,Y_train)\n"
     ]
    },
    {
     "data": {
      "text/plain": [
       "RandomForestClassifier()"
      ]
     },
     "execution_count": 91,
     "metadata": {},
     "output_type": "execute_result"
    }
   ],
   "source": [
    "#Import Random Forest Model\n",
    "from sklearn.ensemble import RandomForestClassifier\n",
    "\n",
    "#Create a Gaussian Classifier\n",
    "clf=RandomForestClassifier(n_estimators=100)\n",
    "\n",
    "#Train the model using the training sets y_pred=clf.predict(X_test)\n",
    "clf.fit(X_train,Y_train)\n",
    "\n",
    "y_pred=clf.predict(X_test)"
   ]
  },
  {
   "cell_type": "code",
   "execution_count": 92,
   "id": "4431d689",
   "metadata": {},
   "outputs": [],
   "source": [
    "import sklearn.metrics as metrics"
   ]
  },
  {
   "cell_type": "code",
   "execution_count": 93,
   "id": "1660b85c",
   "metadata": {},
   "outputs": [],
   "source": [
    "from sklearn.metrics import accuracy_score"
   ]
  },
  {
   "cell_type": "code",
   "execution_count": 94,
   "id": "5acf70db",
   "metadata": {},
   "outputs": [
    {
     "data": {
      "text/plain": [
       "300"
      ]
     },
     "execution_count": 94,
     "metadata": {},
     "output_type": "execute_result"
    }
   ],
   "source": [
    "len(Y_test)"
   ]
  },
  {
   "cell_type": "code",
   "execution_count": 95,
   "id": "a66ec04e",
   "metadata": {},
   "outputs": [
    {
     "data": {
      "text/plain": [
       "157"
      ]
     },
     "execution_count": 95,
     "metadata": {},
     "output_type": "execute_result"
    }
   ],
   "source": [
    "len(Y_pred)"
   ]
  },
  {
   "cell_type": "code",
   "execution_count": 96,
   "id": "5634e94a",
   "metadata": {},
   "outputs": [],
   "source": [
    "Y_testing = Y_test[0:131]"
   ]
  },
  {
   "cell_type": "code",
   "execution_count": null,
   "id": "3a3219f0",
   "metadata": {},
   "outputs": [],
   "source": []
  },
  {
   "cell_type": "code",
   "execution_count": null,
   "id": "b48b5ecc",
   "metadata": {},
   "outputs": [],
   "source": []
  },
  {
   "cell_type": "code",
   "execution_count": 100,
   "id": "1e428723",
   "metadata": {},
   "outputs": [
    {
     "data": {
      "text/plain": [
       "Savingaccounts    0.509754\n",
       "Housing           0.277834\n",
       "Job               0.212412\n",
       "dtype: float64"
      ]
     },
     "execution_count": 100,
     "metadata": {},
     "output_type": "execute_result"
    }
   ],
   "source": [
    "import pandas as pd\n",
    "feature_imp = pd.Series(clf.feature_importances_,index =['Job','Housing','Savingaccounts']).sort_values(ascending=False)\n",
    "feature_imp"
   ]
  },
  {
   "cell_type": "code",
   "execution_count": 99,
   "id": "2917f358",
   "metadata": {},
   "outputs": [
    {
     "data": {
      "text/plain": [
       "<AxesSubplot:>"
      ]
     },
     "execution_count": 99,
     "metadata": {},
     "output_type": "execute_result"
    },
    {
     "data": {
      "text/plain": [
       "Text(0.5, 0, 'Feature Importance Score')"
      ]
     },
     "execution_count": 99,
     "metadata": {},
     "output_type": "execute_result"
    },
    {
     "data": {
      "text/plain": [
       "Text(0, 0.5, 'Features')"
      ]
     },
     "execution_count": 99,
     "metadata": {},
     "output_type": "execute_result"
    },
    {
     "data": {
      "text/plain": [
       "Text(0.5, 1.0, 'Visualizing Important Features')"
      ]
     },
     "execution_count": 99,
     "metadata": {},
     "output_type": "execute_result"
    },
    {
     "name": "stderr",
     "output_type": "stream",
     "text": [
      "No handles with labels found to put in legend.\n"
     ]
    },
    {
     "data": {
      "text/plain": [
       "<matplotlib.legend.Legend at 0x1c1d699ad90>"
      ]
     },
     "execution_count": 99,
     "metadata": {},
     "output_type": "execute_result"
    },
    {
     "data": {
      "image/png": "[encoded data removed]",
      "text/plain": [
       "<Figure size 432x288 with 1 Axes>"
      ]
     },
     "metadata": {
      "needs_background": "light"
     },
     "output_type": "display_data"
    }
   ],
   "source": [
    "import matplotlib.pyplot as plt\n",
    "import seaborn as sns\n",
    "%matplotlib inline\n",
    "# Creating a bar plot\n",
    "sns.barplot(x=feature_imp, y=feature_imp.index)\n",
    "# Add labels to your graph\n",
    "plt.xlabel('Feature Importance Score')\n",
    "plt.ylabel('Features')\n",
    "plt.title(\"Visualizing Important Features\")\n",
    "plt.legend()\n",
    "plt.show()"
   ]
  },
  {
   "cell_type": "code",
   "execution_count": null,
   "id": "fa25a42a",
   "metadata": {},
   "outputs": [],
   "source": []
  },
  {
   "cell_type": "code",
   "execution_count": null,
   "id": "b4646930",
   "metadata": {},
   "outputs": [],
   "source": []
  },
  {
   "cell_type": "code",
   "execution_count": null,
   "id": "903e1ff6",
   "metadata": {},
   "outputs": [],
   "source": []
  },
  {
   "cell_type": "code",
   "execution_count": null,
   "id": "d3cf2446",
   "metadata": {},
   "outputs": [],
   "source": []
  },
  {
   "cell_type": "code",
   "execution_count": null,
   "id": "37ad5a9f",
   "metadata": {},
   "outputs": [],
   "source": []
  },
  {
   "cell_type": "code",
   "execution_count": null,
   "id": "95a4a91e",
   "metadata": {},
   "outputs": [],
   "source": []
  },
  {
   "cell_type": "code",
   "execution_count": null,
   "id": "cdc1e0c5",
   "metadata": {},
   "outputs": [],
   "source": []
  }
 ],
 "metadata": {
  "kernelspec": {
   "display_name": "Python 3 (ipykernel)",
   "language": "python",
   "name": "python3"
  },
  "language_info": {
   "codemirror_mode": {
    "name": "ipython",
    "version": 3
   },
   "file_extension": ".py",
   "mimetype": "text/x-python",
   "name": "python",
   "nbconvert_exporter": "python",
   "pygments_lexer": "ipython3",
   "version": "3.9.7"
  }
 },
 "nbformat": 4,
 "nbformat_minor": 5
}
